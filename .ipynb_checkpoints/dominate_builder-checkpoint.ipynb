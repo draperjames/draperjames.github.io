{
 "cells": [
  {
   "cell_type": "markdown",
   "metadata": {},
   "source": [
    "- [w3scools](https://www.w3schools.com/)\n",
    "\n",
    "- [w3schools on Bootstrap 4](https://www.w3schools.com/bootstrap4/default.asp)\n",
    "\n",
    "- [dominate docs](https://github.com/Knio/dominate/)\n",
    "\n",
    "- [draperjames.github.io](https://draperjames.github.io/)"
   ]
  },
  {
   "cell_type": "code",
   "execution_count": 1,
   "metadata": {},
   "outputs": [],
   "source": [
    "from dominate import tags \n",
    "\n",
    "\n",
    "# head = tags.head(head_txt)\n",
    "\n",
    "title = tags.title(\"James Draper : Computational Biologist\")\n",
    "\n",
    "meta_data = [title]\n",
    "meta_data += [tags.meta(charset=\"utf-8\")]\n",
    "meta_data += [tags.meta(name=\"viewport\", content=\"width=device-width, initial-scale=1\")]\n",
    "\n",
    "# Bootstrap CSS CDN\n",
    "css = [tags.link(rel=\"stylesheet\", href=\"https://maxcdn.bootstrapcdn.com/bootstrap/4.0.0/css/bootstrap.min.css\")]\n",
    "\n",
    "# JQuery CDN\n",
    "js  = [tags.script(src=\"https://ajax.googleapis.com/ajax/libs/jquery/3.3.1/jquery.min.js\")]\n",
    "\n",
    "# Pooper CDN\n",
    "js  = [tags.script(src=\"https://cdnjs.cloudflare.com/ajax/libs/popper.js/1.12.9/umd/popper.min.js\")]\n",
    "\n",
    "# BootStrapJS CDN\n",
    "js += [tags.script(src=\"https://maxcdn.bootstrapcdn.com/bootstrap/4.0.0/js/bootstrap.min.js\")]\n",
    "\n",
    "\n",
    "extenal_code = css + js\n",
    "\n",
    "head = tags.head(meta_data+extenal_code)\n",
    "\n",
    "# print(head.render())\n",
    "\n",
    "\n",
    "@tags.div(cls='jumbotron text-center')\n",
    "def jumbotron_center(title=None, subtitle=None, **kwargs):\n",
    "    tags.h1('{}'.format(title))\n",
    "    if subtitle is not None:\n",
    "        tags.p(subtitle)\n",
    "\n",
    "body = []\n",
    "\n",
    "body += [jumbotron_center(title=\"James Draper\", subtitle=\"Computational Biologist\")]\n",
    "\n",
    "body = tags.body(body)\n",
    "# body.render()\n",
    "page = tags.html(head, body)\n",
    "\n",
    "\n",
    "def make_page(file_path=None, page=None):\n",
    "    with open(file_path,\"w\") as f:\n",
    "        f.write(page.render())\n",
    "\n",
    "make_page(\"index.html\", page)"
   ]
  },
  {
   "cell_type": "markdown",
   "metadata": {},
   "source": [
    "```\n",
    "\n",
    "<body>\n",
    "\n",
    "<div class=\"jumbotron text-center\">\n",
    "  <h1>James Draper</h1>\n",
    "  <p>Computational Biologist</p>\n",
    "</div>\n",
    "\n",
    "<div class=\"container\">\n",
    "\n",
    "  <div class=\"row\">\n",
    "    <div class=\"col-sm-4\">\n",
    "      <h3>Projects</h3>\n",
    "      <p><a href=\"https://draperjames.github.io/pandomics/\">panomics</a> - An omics-centric pulgin for the python data handling library pandas.</p>\n",
    "      <p><a href=\">guipyter</a> - Simple GUIs for getting files into and out of Jupyter Notebook/Lab</p>\n",
    "\n",
    "  </div>\n",
    "</div>\n",
    "\n",
    "</body>\n",
    "</html>\n",
    "\n",
    "```"
   ]
  },
  {
   "cell_type": "markdown",
   "metadata": {},
   "source": [
    "```\n",
    "<div class=\"container\">\n",
    "\n",
    "  <div class=\"row\">\n",
    "    <div class=\"col-sm-4\">\n",
    "      <h3>Projects</h3>\n",
    "      <p><a href=\"https://draperjames.github.io/pandomics/\">panomics</a> - An omics-centric pulgin for the python data handling library pandas.</p>\n",
    "      <p><a href=\"https://draperjames.github.io/guipyter/\">guipyter</a> - Simple GUIs for getting files into and out of Jupyter Notebook/Lab</p>\n",
    "    </div>\n",
    "    <div class=\"col-sm-4\">\n",
    "```"
   ]
  },
  {
   "cell_type": "markdown",
   "metadata": {},
   "source": [
    "# SO Flair\n",
    "<a href=\"https://stackoverflow.com/users/3727854/james-draper\">\n",
    "<img src=\"https://stackoverflow.com/users/flair/3727854.png\" width=\"208\" height=\"58\" alt=\"profile for James Draper at Stack Overflow, Q&amp;A for professional and enthusiast programmers\" title=\"profile for James Draper at Stack Overflow, Q&amp;A for professional and enthusiast programmers\">\n",
    "</a>"
   ]
  },
  {
   "cell_type": "markdown",
   "metadata": {},
   "source": [
    "# SO RSS\n",
    "\n",
    "https://stackoverflow.com/feeds/user/3727854"
   ]
  },
  {
   "cell_type": "code",
   "execution_count": 2,
   "metadata": {},
   "outputs": [
    {
     "name": "stdout",
     "output_type": "stream",
     "text": [
      "<div class=\"container\">\n",
      "  <div class=\"col-sm-4\">\n",
      "    <h3>Projects</h3>\n",
      "  </div>\n",
      "</div>\n"
     ]
    }
   ],
   "source": [
    "@tags.div(cls=\"container\")\n",
    "\n",
    "def column_make(*args, **kwargs):\n",
    "    tags.div(*args,**kwargs)\n",
    "\n",
    "container = column_make(tags.h3(\"Projects\"), cls=\"col-sm-4\").render()\n",
    "print(container)\n"
   ]
  },
  {
   "cell_type": "code",
   "execution_count": 4,
   "metadata": {},
   "outputs": [],
   "source": [
    "links = dict()\n",
    "\n",
    "links[\"My Stack Overflow RSS Feed\"] = \"https://stackoverflow.com/feeds/user/3727854\"\n"
   ]
  },
  {
   "cell_type": "code",
   "execution_count": 5,
   "metadata": {},
   "outputs": [],
   "source": [
    "programming_cheat_sheets = dict()\n",
    "\n",
    "programming_cheat_sheets[\"emoji-cheat-sheet\"] = \"https://draperjames.github.io/emoji-cheat-sheet/public/\"\n",
    "\n"
   ]
  },
  {
   "cell_type": "code",
   "execution_count": 6,
   "metadata": {},
   "outputs": [],
   "source": [
    "projects = dict()\n",
    "projects[\"guipyter\"] = \"https://draperjames.github.io/guipyter/\"\n",
    "projects[\"pandomics\"] = \"https://draperjames.github.io/pandomics/\""
   ]
  },
  {
   "cell_type": "code",
   "execution_count": 11,
   "metadata": {},
   "outputs": [
    {
     "name": "stdout",
     "output_type": "stream",
     "text": [
      "<a href=\"https://draperjames.github.io/guipyter/\">guipyter</a>\n",
      "<a href=\"https://draperjames.github.io/pandomics/\">pandomics</a>\n"
     ]
    }
   ],
   "source": [
    "\n",
    "lnk_list = []\n",
    "for k,v in projects.items():\n",
    "    lnk = tags.a(k, href=v)\n",
    "    # print(lnk.render())\n",
    "    lnk_list += lnk\n"
   ]
  },
  {
   "cell_type": "markdown",
   "metadata": {},
   "source": [
    "<a href=\"https://draperjames.github.io/guipyter/\">guipyter</a><br>\n",
    "<a href=\"https://draperjames.github.io/pandomics/\">pandomics</a>\n"
   ]
  },
  {
   "cell_type": "code",
   "execution_count": null,
   "metadata": {},
   "outputs": [],
   "source": []
  }
 ],
 "metadata": {
  "kernelspec": {
   "display_name": "Python 3",
   "language": "python",
   "name": "python3"
  },
  "language_info": {
   "codemirror_mode": {
    "name": "ipython",
    "version": 3
   },
   "file_extension": ".py",
   "mimetype": "text/x-python",
   "name": "python",
   "nbconvert_exporter": "python",
   "pygments_lexer": "ipython3",
   "version": "3.6.3"
  }
 },
 "nbformat": 4,
 "nbformat_minor": 2
}
