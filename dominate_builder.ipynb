{
 "cells": [
  {
   "cell_type": "markdown",
   "metadata": {},
   "source": [
    "- [w3scools](https://www.w3schools.com/)\n",
    "\n",
    "- [w3schools on Bootstrap 4](https://www.w3schools.com/bootstrap4/default.asp)\n",
    "\n",
    "- [dominate docs](https://github.com/Knio/dominate/)\n",
    "\n",
    "- [draperjames.github.io](https://draperjames.github.io/)\n",
    "\n",
    "<a href=\"https://stackoverflow.com/users/3727854/james-draper\">\n",
    "<img src=\"https://stackoverflow.com/users/flair/3727854.png\" width=\"208\" height=\"58\" alt=\"SO flair button\" title=\"James Draper at Stack Overflow\">\n",
    "</a>"
   ]
  },
  {
   "cell_type": "code",
   "execution_count": 14,
   "metadata": {},
   "outputs": [],
   "source": [
    "from dominate import tags \n",
    "\n",
    "\n",
    "# head = tags.head(head_txt)\n",
    "\n",
    "title = tags.title(\"James Draper : Computational Biologist\")\n",
    "\n",
    "meta_data = [title]\n",
    "meta_data += [tags.meta(charset=\"utf-8\")]\n",
    "meta_data += [tags.meta(name=\"viewport\", content=\"width=device-width, initial-scale=1\")]\n",
    "\n",
    "# Bootstrap CSS CDN\n",
    "css = [tags.link(rel=\"stylesheet\", href=\"https://maxcdn.bootstrapcdn.com/bootstrap/4.0.0/css/bootstrap.min.css\")]\n",
    "\n",
    "# JQuery CDN\n",
    "js  = [tags.script(src=\"https://ajax.googleapis.com/ajax/libs/jquery/3.3.1/jquery.min.js\")]\n",
    "\n",
    "# Pooper CDN\n",
    "js  = [tags.script(src=\"https://cdnjs.cloudflare.com/ajax/libs/popper.js/1.12.9/umd/popper.min.js\")]\n",
    "\n",
    "# BootStrapJS CDN\n",
    "js += [tags.script(src=\"https://maxcdn.bootstrapcdn.com/bootstrap/4.0.0/js/bootstrap.min.js\")]\n",
    "\n",
    "\n",
    "extenal_code = css + js\n",
    "\n",
    "head = tags.head(meta_data+extenal_code)\n",
    "\n",
    "# print(head.render())\n",
    "\n",
    "\n",
    "@tags.div(cls='jumbotron text-center')\n",
    "def jumbotron_center(title=None, subtitle=None, **kwargs):\n",
    "    tags.h1('{}'.format(title))\n",
    "    if subtitle is not None:\n",
    "        tags.p(subtitle)"
   ]
  },
  {
   "cell_type": "code",
   "execution_count": 28,
   "metadata": {},
   "outputs": [],
   "source": [
    "\n",
    "projects = dict()\n",
    "projects[\"guipyter\"] = \"https://draperjames.github.io/guipyter/\"\n",
    "projects[\"pandomics\"] = \"https://draperjames.github.io/pandomics/\"\n",
    "\n",
    "\n",
    "lnk_list = []\n",
    "for k,v in projects.items():\n",
    "    lnk = tags.a(k, href=v)\n",
    "    lnk_list += [lnk, tags.br()] \n"
   ]
  },
  {
   "cell_type": "code",
   "execution_count": 29,
   "metadata": {},
   "outputs": [],
   "source": [
    "container = tags.div(tags.h3(\"My OSS Projects\"), tags.p(lnk_list), cls=\"col-sm-4\")\n",
    "\n",
    "container = tags.div(container, cls=\"container\")\n",
    "\n",
    "# print(container)"
   ]
  },
  {
   "cell_type": "code",
   "execution_count": 30,
   "metadata": {},
   "outputs": [],
   "source": [
    "body = []\n",
    "\n",
    "body += [jumbotron_center(title=\"James Draper\", subtitle=\"Computational Biologist\")]\n",
    "\n",
    "body += [container]\n",
    "\n",
    "body = tags.body(body)\n",
    "\n",
    "# body.render()\n",
    "page = tags.html(head, body)\n",
    "\n",
    "def make_page(file_path=None, page=None):\n",
    "    with open(file_path,\"w\") as f:\n",
    "        f.write(page.render())\n",
    "\n",
    "make_page(\"index.html\", page)"
   ]
  },
  {
   "cell_type": "code",
   "execution_count": 27,
   "metadata": {},
   "outputs": [
    {
     "data": {
      "text/plain": [
       "'<br>'"
      ]
     },
     "execution_count": 27,
     "metadata": {},
     "output_type": "execute_result"
    }
   ],
   "source": [
    "tags.br().render()"
   ]
  },
  {
   "cell_type": "code",
   "execution_count": 4,
   "metadata": {},
   "outputs": [],
   "source": [
    "links = dict()\n",
    "links[\"My Stack Overflow RSS Feed\"] = \"https://stackoverflow.com/feeds/user/3727854\"\n"
   ]
  },
  {
   "cell_type": "code",
   "execution_count": 16,
   "metadata": {},
   "outputs": [],
   "source": [
    "programming_cheat_sheets = dict()\n",
    "programming_cheat_sheets[\"emoji-cheat-sheet\"] = \"https://draperjames.github.io/emoji-cheat-sheet/public/\"\n",
    "\n"
   ]
  },
  {
   "cell_type": "markdown",
   "metadata": {},
   "source": [
    "<a href=\"https://draperjames.github.io/guipyter/\">guipyter</a><br>\n",
    "<a href=\"https://draperjames.github.io/pandomics/\">pandomics</a>\n"
   ]
  },
  {
   "cell_type": "code",
   "execution_count": null,
   "metadata": {},
   "outputs": [],
   "source": []
  }
 ],
 "metadata": {
  "kernelspec": {
   "display_name": "Python 3",
   "language": "python",
   "name": "python3"
  }
 },
 "nbformat": 4,
 "nbformat_minor": 2
}
